{
 "cells": [
  {
   "cell_type": "code",
   "execution_count": 22,
   "id": "sufficient-production",
   "metadata": {},
   "outputs": [],
   "source": [
    "import pyspark\n",
    "from pyspark.sql import SparkSession\n",
    "spark = SparkSession.builder.appName('RDD Exampl').getOrCreate()"
   ]
  },
  {
   "cell_type": "code",
   "execution_count": 23,
   "id": "theoretical-partner",
   "metadata": {},
   "outputs": [],
   "source": [
    "from pyspark.sql.functions import col\n",
    "from pyspark.sql.functions import weekofyear\n",
    "from pyspark.sql.functions import month\n",
    "from pyspark.sql.functions import year, to_date\n",
    "from pyspark.sql.functions import when\n",
    "from pyspark.sql.functions import avg\n",
    "from pyspark.sql.window import Window\n",
    "from pyspark.sql.functions import row_number\n",
    "from pyspark.sql.functions import countDistinct\n",
    "from pyspark.sql.functions import count"
   ]
  },
  {
   "cell_type": "code",
   "execution_count": 24,
   "id": "decreased-reading",
   "metadata": {},
   "outputs": [
    {
     "name": "stdout",
     "output_type": "stream",
     "text": [
      "+----------+------+--------------+----------------+----------+----------+--------------------+--------------------+--------------------+----+-------+---------+-----------+----+----------------+--------+-------------+-------+-------------+---------+--------+--------------------------+----------------------+------------------+--------------------+--------------------+-------------+---------+\n",
      "|CallNumber|UnitID|IncidentNumber|        CallType|  CallDate| WatchDate|CallFinalDisposition|       AvailableDtTm|             Address|City|Zipcode|Battalion|StationArea| Box|OriginalPriority|Priority|FinalPriority|ALSUnit|CallTypeGroup|NumAlarms|UnitType|UnitSequenceInCallDispatch|FirePreventionDistrict|SupervisorDistrict|        Neighborhood|            Location|        RowID|    Delay|\n",
      "+----------+------+--------------+----------------+----------+----------+--------------------+--------------------+--------------------+----+-------+---------+-----------+----+----------------+--------+-------------+-------+-------------+---------+--------+--------------------------+----------------------+------------------+--------------------+--------------------+-------------+---------+\n",
      "|  20110016|   T13|       2003235|  Structure Fire|01/11/2002|01/10/2002|               Other|01/11/2002 01:51:...|2000 Block of CAL...|  SF|  94109|      B04|         38|3362|               3|       3|            3|  false|         null|        1|   TRUCK|                         2|                     4|                 5|     Pacific Heights|(37.7895840679362...|020110016-T13|     2.95|\n",
      "|  20110022|   M17|       2003241|Medical Incident|01/11/2002|01/10/2002|               Other|01/11/2002 03:01:...|0 Block of SILVER...|  SF|  94124|      B10|         42|6495|               3|       3|            3|   true|         null|        1|   MEDIC|                         1|                    10|                10|Bayview Hunters P...|(37.7337623673897...|020110022-M17|      4.7|\n",
      "|  20110023|   M41|       2003242|Medical Incident|01/11/2002|01/10/2002|               Other|01/11/2002 02:39:...|MARKET ST/MCALLIS...|  SF|  94102|      B03|         01|1455|               3|       3|            3|   true|         null|        1|   MEDIC|                         2|                     3|                 6|          Tenderloin|(37.7811772186856...|020110023-M41|2.4333334|\n",
      "|  20110032|   E11|       2003250|    Vehicle Fire|01/11/2002|01/10/2002|               Other|01/11/2002 04:16:...|APPLETON AV/MISSI...|  SF|  94110|      B06|         32|5626|               3|       3|            3|  false|         null|        1|  ENGINE|                         1|                     6|                 9|      Bernal Heights|(37.7388432849018...|020110032-E11|      1.5|\n",
      "|  20110043|   B04|       2003259|          Alarms|01/11/2002|01/10/2002|               Other|01/11/2002 06:01:...|1400 Block of SUT...|  SF|  94109|      B04|         03|3223|               3|       3|            3|  false|         null|        1|   CHIEF|                         2|                     4|                 2|    Western Addition|(37.7872890372638...|020110043-B04|3.4833333|\n",
      "+----------+------+--------------+----------------+----------+----------+--------------------+--------------------+--------------------+----+-------+---------+-----------+----+----------------+--------+-------------+-------+-------------+---------+--------+--------------------------+----------------------+------------------+--------------------+--------------------+-------------+---------+\n",
      "only showing top 5 rows\n",
      "\n"
     ]
    }
   ],
   "source": [
    "df = spark.read.csv(\"/home/sois/Documents/lab/sf-fire-calls.csv\", header=True, inferSchema=True)\n",
    "df.show(5)"
   ]
  },
  {
   "cell_type": "code",
   "execution_count": 25,
   "id": "prospective-difference",
   "metadata": {},
   "outputs": [],
   "source": [
    "#1. Get yearly count of fire calls"
   ]
  },
  {
   "cell_type": "code",
   "execution_count": 26,
   "id": "steady-slovenia",
   "metadata": {},
   "outputs": [
    {
     "name": "stdout",
     "output_type": "stream",
     "text": [
      "+----+-----+\n",
      "|Year|count|\n",
      "+----+-----+\n",
      "|2000| 5459|\n",
      "|2001| 7713|\n",
      "|2002| 8090|\n",
      "|2003| 8499|\n",
      "|2004| 8283|\n",
      "|2005| 8282|\n",
      "|2006| 8174|\n",
      "|2007| 8255|\n",
      "|2008| 8869|\n",
      "|2009| 8789|\n",
      "|2010| 9341|\n",
      "|2011| 9735|\n",
      "|2012| 9674|\n",
      "|2013|10020|\n",
      "|2014|10775|\n",
      "|2015|11458|\n",
      "|2016|11609|\n",
      "|2017|12135|\n",
      "|2018|10136|\n",
      "+----+-----+\n",
      "\n"
     ]
    }
   ],
   "source": [
    "df = df.withColumn(\"CallDate\", to_date(\"CallDate\", \"MM/dd/yyyy\"))\n",
    "yearly_calls = df.withColumn(\"Year\", year(\"CallDate\")).groupBy(\"Year\").count().orderBy(\"Year\")\n",
    "yearly_calls.show()"
   ]
  },
  {
   "cell_type": "code",
   "execution_count": 27,
   "id": "resistant-concept",
   "metadata": {},
   "outputs": [],
   "source": [
    "#2. What were all the different types of fire calls in 2018?"
   ]
  },
  {
   "cell_type": "code",
   "execution_count": 28,
   "id": "dress-ireland",
   "metadata": {},
   "outputs": [
    {
     "name": "stdout",
     "output_type": "stream",
     "text": [
      "+--------------------+\n",
      "|            CallType|\n",
      "+--------------------+\n",
      "|Elevator / Escala...|\n",
      "+--------------------+\n",
      "only showing top 1 row\n",
      "\n"
     ]
    }
   ],
   "source": [
    "fire_calls_2018 = df.filter(year(\"CallDate\") == 2018).select(\"CallType\").distinct().filter(col(\"CallType\").isNotNull())\n",
    "fire_calls_2018.show(1)"
   ]
  },
  {
   "cell_type": "code",
   "execution_count": 29,
   "id": "informative-console",
   "metadata": {},
   "outputs": [],
   "source": [
    "#3. Which week in the year in 2018 had the most fire calls?"
   ]
  },
  {
   "cell_type": "code",
   "execution_count": 30,
   "id": "received-pioneer",
   "metadata": {},
   "outputs": [
    {
     "name": "stdout",
     "output_type": "stream",
     "text": [
      "+----+-----+\n",
      "|Week|count|\n",
      "+----+-----+\n",
      "|  22|  259|\n",
      "+----+-----+\n",
      "only showing top 1 row\n",
      "\n"
     ]
    }
   ],
   "source": [
    "weekly_counts_2018 = df.filter(year(\"CallDate\") == 2018).withColumn(\"Week\", weekofyear(\"CallDate\")).groupBy(\"Week\").count().orderBy(col(\"count\").desc())\n",
    "weekly_counts_2018.show(1)"
   ]
  },
  {
   "cell_type": "code",
   "execution_count": 31,
   "id": "southwest-tomorrow",
   "metadata": {},
   "outputs": [],
   "source": [
    "#4. Get monthly count of fire calls based on year"
   ]
  },
  {
   "cell_type": "code",
   "execution_count": 32,
   "id": "european-designation",
   "metadata": {},
   "outputs": [
    {
     "name": "stdout",
     "output_type": "stream",
     "text": [
      "+----+-----+-----+\n",
      "|Year|Month|count|\n",
      "+----+-----+-----+\n",
      "|2000|    4|  335|\n",
      "|2000|    5|  680|\n",
      "|2000|    6|  585|\n",
      "|2000|    7|  668|\n",
      "|2000|    8|  678|\n",
      "|2000|    9|  655|\n",
      "|2000|   10|  620|\n",
      "|2000|   11|  595|\n",
      "|2000|   12|  643|\n",
      "|2001|    1|  622|\n",
      "|2001|    2|  613|\n",
      "|2001|    3|  692|\n",
      "|2001|    4|  636|\n",
      "|2001|    5|  682|\n",
      "|2001|    6|  672|\n",
      "|2001|    7|  646|\n",
      "|2001|    8|  660|\n",
      "|2001|    9|  577|\n",
      "|2001|   10|  673|\n",
      "|2001|   11|  619|\n",
      "+----+-----+-----+\n",
      "only showing top 20 rows\n",
      "\n"
     ]
    }
   ],
   "source": [
    "monthly_counts = df.withColumn(\"Year\", year(\"CallDate\")).withColumn(\"Month\", month(\"CallDate\")).groupBy(\"Year\", \"Month\").count().orderBy(\"Year\", \"Month\")\n",
    "monthly_counts.show()"
   ]
  },
  {
   "cell_type": "code",
   "execution_count": 33,
   "id": "fabulous-rachel",
   "metadata": {},
   "outputs": [],
   "source": [
    "#5. Give monthly report of fire call types for selected year"
   ]
  },
  {
   "cell_type": "code",
   "execution_count": 34,
   "id": "third-louis",
   "metadata": {},
   "outputs": [
    {
     "name": "stdout",
     "output_type": "stream",
     "text": [
      "+-----+-------------------------------+-----+\n",
      "|Month|CallType                       |count|\n",
      "+-----+-------------------------------+-----+\n",
      "|1    |Medical Incident               |692  |\n",
      "|1    |Alarms                         |122  |\n",
      "|1    |Structure Fire                 |91   |\n",
      "|1    |Traffic Collision              |42   |\n",
      "|1    |Citizen Assist / Service Call  |15   |\n",
      "|1    |Outside Fire                   |14   |\n",
      "|1    |Gas Leak (Natural and LP Gases)|5    |\n",
      "|1    |Water Rescue                   |4    |\n",
      "|1    |Vehicle Fire                   |4    |\n",
      "|1    |Electrical Hazard              |3    |\n",
      "|1    |Elevator / Escalator Rescue    |3    |\n",
      "|1    |Other                          |3    |\n",
      "|1    |Smoke Investigation (Outside)  |3    |\n",
      "|1    |Odor (Strange / Unknown)       |2    |\n",
      "|1    |Train / Rail Incident          |2    |\n",
      "|1    |Fuel Spill                     |1    |\n",
      "|1    |HazMat                         |1    |\n",
      "|2    |Medical Incident               |635  |\n",
      "|2    |Alarms                         |102  |\n",
      "|2    |Structure Fire                 |91   |\n",
      "+-----+-------------------------------+-----+\n",
      "only showing top 20 rows\n",
      "\n"
     ]
    }
   ],
   "source": [
    "monthly_report = df.filter(year(\"CallDate\") == 2018).withColumn(\"Month\", month(\"CallDate\")).groupBy(\"Month\", \"CallType\").count().orderBy(\"Month\", \"count\", ascending=[True, False])\n",
    "monthly_report.show(truncate=False)"
   ]
  },
  {
   "cell_type": "code",
   "execution_count": 35,
   "id": "indoor-period",
   "metadata": {},
   "outputs": [],
   "source": [
    "#6. Give top five fire call types for every season of selected year (seasons are like Spring, summer, fall winter etc)."
   ]
  },
  {
   "cell_type": "code",
   "execution_count": 36,
   "id": "great-surgeon",
   "metadata": {},
   "outputs": [
    {
     "name": "stdout",
     "output_type": "stream",
     "text": [
      "+------+-----------------+-----+\n",
      "|Season|CallType         |count|\n",
      "+------+-----------------+-----+\n",
      "|Fall  |Medical Incident |1514 |\n",
      "|Fall  |Alarms           |251  |\n",
      "|Fall  |Structure Fire   |201  |\n",
      "|Fall  |Traffic Collision|100  |\n",
      "|Fall  |Outside Fire     |39   |\n",
      "|Spring|Medical Incident |2110 |\n",
      "|Spring|Alarms           |333  |\n",
      "|Spring|Structure Fire   |261  |\n",
      "|Spring|Traffic Collision|133  |\n",
      "|Spring|Other            |36   |\n",
      "|Summer|Medical Incident |2053 |\n",
      "|Summer|Alarms           |336  |\n",
      "|Summer|Structure Fire   |262  |\n",
      "|Summer|Traffic Collision|121  |\n",
      "|Summer|Outside Fire     |61   |\n",
      "|Winter|Medical Incident |1327 |\n",
      "|Winter|Alarms           |224  |\n",
      "|Winter|Structure Fire   |182  |\n",
      "|Winter|Traffic Collision|79   |\n",
      "|Winter|Outside Fire     |28   |\n",
      "+------+-----------------+-----+\n",
      "\n"
     ]
    }
   ],
   "source": [
    "df_2018 = df.filter(year(\"CallDate\") == 2018).withColumn(\"Month\", month(\"CallDate\")).withColumn(\"Season\", when(col(\"Month\").isin(12, 1, 2), \"Winter\").when(col(\"Month\").isin(3, 4, 5), \"Spring\").when(col(\"Month\").isin(6, 7, 8), \"Summer\").when(col(\"Month\").isin(9, 10, 11), \"Fall\"))\n",
    "windowSpec = Window.partitionBy(\"Season\").orderBy(col(\"count\").desc())\n",
    "season_top5 = df_2018.groupBy(\"Season\", \"CallType\").count().withColumn(\"rank\", row_number().over(windowSpec)).filter(col(\"rank\") <= 5)\n",
    "season_top5.select(\"Season\", \"CallType\", \"count\").orderBy(\"Season\", \"count\", ascending=[True, False]).show(truncate=False)"
   ]
  },
  {
   "cell_type": "code",
   "execution_count": 37,
   "id": "typical-today",
   "metadata": {},
   "outputs": [],
   "source": [
    "#7. Whether fire type calls are seasonal?"
   ]
  },
  {
   "cell_type": "code",
   "execution_count": 38,
   "id": "precise-regression",
   "metadata": {},
   "outputs": [
    {
     "name": "stdout",
     "output_type": "stream",
     "text": [
      "+------+-----------------------------+-----+\n",
      "|Season|CallType                     |count|\n",
      "+------+-----------------------------+-----+\n",
      "|Fall  |Alarms                       |251  |\n",
      "|Spring|Alarms                       |333  |\n",
      "|Summer|Alarms                       |336  |\n",
      "|Winter|Alarms                       |224  |\n",
      "|Winter|Assist Police                |1    |\n",
      "|Fall  |Citizen Assist / Service Call|35   |\n",
      "|Spring|Citizen Assist / Service Call|26   |\n",
      "|Summer|Citizen Assist / Service Call|25   |\n",
      "|Winter|Citizen Assist / Service Call|27   |\n",
      "|Fall  |Electrical Hazard            |5    |\n",
      "|Spring|Electrical Hazard            |6    |\n",
      "|Summer|Electrical Hazard            |11   |\n",
      "|Winter|Electrical Hazard            |8    |\n",
      "|Fall  |Elevator / Escalator Rescue  |8    |\n",
      "|Spring|Elevator / Escalator Rescue  |13   |\n",
      "|Summer|Elevator / Escalator Rescue  |10   |\n",
      "|Winter|Elevator / Escalator Rescue  |5    |\n",
      "|Spring|Explosion                    |1    |\n",
      "|Fall  |Fuel Spill                   |1    |\n",
      "|Spring|Fuel Spill                   |4    |\n",
      "+------+-----------------------------+-----+\n",
      "only showing top 20 rows\n",
      "\n"
     ]
    }
   ],
   "source": [
    "seasonal_call_counts = df_2018.groupBy(\"Season\", \"CallType\").count().orderBy(\"CallType\", \"Season\")\n",
    "seasonal_call_counts.show(truncate=False)"
   ]
  },
  {
   "cell_type": "code",
   "execution_count": 39,
   "id": "imperial-inspection",
   "metadata": {},
   "outputs": [],
   "source": [
    "#8. What months within the year 2018 saw the highest number of fire calls?"
   ]
  },
  {
   "cell_type": "code",
   "execution_count": 40,
   "id": "exciting-brunei",
   "metadata": {},
   "outputs": [
    {
     "name": "stdout",
     "output_type": "stream",
     "text": [
      "+-----+-----+\n",
      "|Month|count|\n",
      "+-----+-----+\n",
      "|   10| 1068|\n",
      "|    5| 1047|\n",
      "|    3| 1029|\n",
      "|    8| 1021|\n",
      "|    1| 1007|\n",
      "|    7|  974|\n",
      "|    6|  974|\n",
      "|    9|  951|\n",
      "|    4|  947|\n",
      "|    2|  919|\n",
      "|   11|  199|\n",
      "+-----+-----+\n",
      "\n"
     ]
    }
   ],
   "source": [
    "df_2018.groupBy(\"Month\").count().orderBy(col(\"count\").desc()).show()"
   ]
  },
  {
   "cell_type": "code",
   "execution_count": 41,
   "id": "horizontal-hurricane",
   "metadata": {},
   "outputs": [],
   "source": [
    "#9. Find which type of fire call is major calltype in each year"
   ]
  },
  {
   "cell_type": "code",
   "execution_count": 46,
   "id": "solved-treaty",
   "metadata": {},
   "outputs": [
    {
     "name": "stdout",
     "output_type": "stream",
     "text": [
      "+----+----------------+-----+\n",
      "|Year|        CallType|count|\n",
      "+----+----------------+-----+\n",
      "|2000|Medical Incident| 3408|\n",
      "|2001|Medical Incident| 4653|\n",
      "|2002|Medical Incident| 5046|\n",
      "|2003|Medical Incident| 5056|\n",
      "|2004|Medical Incident| 5137|\n",
      "|2005|Medical Incident| 5084|\n",
      "|2006|Medical Incident| 5027|\n",
      "|2007|Medical Incident| 5114|\n",
      "|2008|Medical Incident| 5692|\n",
      "|2009|Medical Incident| 5671|\n",
      "|2010|Medical Incident| 6186|\n",
      "|2011|Medical Incident| 6413|\n",
      "|2012|Medical Incident| 6296|\n",
      "|2013|Medical Incident| 6690|\n",
      "|2014|Medical Incident| 7176|\n",
      "|2015|Medical Incident| 7812|\n",
      "|2016|Medical Incident| 7999|\n",
      "|2017|Medical Incident| 8330|\n",
      "|2018|Medical Incident| 7004|\n",
      "+----+----------------+-----+\n",
      "\n"
     ]
    }
   ],
   "source": [
    "df_with_year = df.withColumn(\"Year\", year(\"CallDate\"))\n",
    "major_calltypes_by_year = df_with_year.groupBy(\"Year\", \"CallType\").count()\n",
    "window_year = Window.partitionBy(\"Year\").orderBy(col(\"count\").desc())\n",
    "top_calltype_per_year = major_calltypes_by_year.withColumn(\"rank\", row_number().over(window_year)).filter(col(\"rank\") == 1)\n",
    "top_calltype_per_year.select(\"Year\", \"CallType\", \"count\").orderBy(\"Year\").show()"
   ]
  },
  {
   "cell_type": "code",
   "execution_count": 47,
   "id": "floral-frame",
   "metadata": {},
   "outputs": [],
   "source": [
    "#10. Find out average delay in response for each call type"
   ]
  },
  {
   "cell_type": "code",
   "execution_count": 48,
   "id": "supreme-indie",
   "metadata": {},
   "outputs": [
    {
     "name": "stdout",
     "output_type": "stream",
     "text": [
      "+-----------------------------------+------------------+\n",
      "|CallType                           |AvgDelay          |\n",
      "+-----------------------------------+------------------+\n",
      "|Mutual Aid / Assist Outside Agency |38.416666311111115|\n",
      "|Assist Police                      |26.981903994285716|\n",
      "|Train / Rail Incident              |16.4520467631579  |\n",
      "|Administrative                     |12.261111333333332|\n",
      "|HazMat                             |7.527016126612901 |\n",
      "|Marine Fire                        |6.928571314285715 |\n",
      "|Confined Space / Structure Collapse|6.915384576923078 |\n",
      "|Watercraft in Distress             |6.8869048178571415|\n",
      "|Suspicious Package                 |6.576666720000001 |\n",
      "|High Angle Rescue                  |6.0489583750000016|\n",
      "|Water Rescue                       |5.5077483421457005|\n",
      "|Other                              |5.505155432421966 |\n",
      "|Fuel Spill                         |5.492227982383421 |\n",
      "|Citizen Assist / Service Call      |5.473342576604607 |\n",
      "|Electrical Hazard                  |5.178112038174277 |\n",
      "|Industrial Accidents               |5.014716334042551 |\n",
      "|Oil Spill                          |4.977777761904761 |\n",
      "|Odor (Strange / Unknown)           |4.947959181999996 |\n",
      "|Gas Leak (Natural and LP Gases)    |4.583398778403142 |\n",
      "|Smoke Investigation (Outside)      |4.466069897851663 |\n",
      "+-----------------------------------+------------------+\n",
      "only showing top 20 rows\n",
      "\n"
     ]
    }
   ],
   "source": [
    "avg_delay_per_calltype = df.groupBy(\"CallType\").agg(avg(\"Delay\").alias(\"AvgDelay\")).orderBy(\"AvgDelay\", ascending=False)\n",
    "avg_delay_per_calltype.show(truncate=False)"
   ]
  },
  {
   "cell_type": "code",
   "execution_count": 49,
   "id": "abroad-democracy",
   "metadata": {},
   "outputs": [],
   "source": [
    "#11. Find which calltype has maximum average delay time."
   ]
  },
  {
   "cell_type": "code",
   "execution_count": 50,
   "id": "victorian-comparison",
   "metadata": {},
   "outputs": [
    {
     "name": "stdout",
     "output_type": "stream",
     "text": [
      "+----------------------------------+------------------+\n",
      "|CallType                          |AvgDelay          |\n",
      "+----------------------------------+------------------+\n",
      "|Mutual Aid / Assist Outside Agency|38.416666311111115|\n",
      "+----------------------------------+------------------+\n",
      "only showing top 1 row\n",
      "\n"
     ]
    }
   ],
   "source": [
    "avg_delay_per_calltype.orderBy(col(\"AvgDelay\").desc()).show(1, truncate=False)"
   ]
  },
  {
   "cell_type": "code",
   "execution_count": 51,
   "id": "cleared-purple",
   "metadata": {},
   "outputs": [],
   "source": [
    "#12. Which neighborhood in San Francisco generated the most fire calls in 2018?"
   ]
  },
  {
   "cell_type": "code",
   "execution_count": 52,
   "id": "overhead-quick",
   "metadata": {},
   "outputs": [
    {
     "name": "stdout",
     "output_type": "stream",
     "text": [
      "+------------+-----+\n",
      "|Neighborhood|count|\n",
      "+------------+-----+\n",
      "+------------+-----+\n",
      "\n"
     ]
    }
   ],
   "source": [
    "df.filter((year(\"CallDate\") == 2018) & (col(\"City\") == \"San Fransisco\")).groupBy(\"Neighborhood\").count().orderBy(col(\"count\").desc()).show(1, truncate=False)"
   ]
  },
  {
   "cell_type": "code",
   "execution_count": 53,
   "id": "suspended-content",
   "metadata": {},
   "outputs": [],
   "source": [
    "#13. Which neighborhoods had the worst response times to fire calls in 2018?"
   ]
  },
  {
   "cell_type": "code",
   "execution_count": 54,
   "id": "fifth-drunk",
   "metadata": {},
   "outputs": [
    {
     "name": "stdout",
     "output_type": "stream",
     "text": [
      "+------------------------------+------------------+\n",
      "|Neighborhood                  |AvgDelay          |\n",
      "+------------------------------+------------------+\n",
      "|Chinatown                     |6.190314097905761 |\n",
      "|Presidio                      |5.829227041449275 |\n",
      "|Treasure Island               |5.4537037124999985|\n",
      "|McLaren Park                  |4.744047642857143 |\n",
      "|Bayview Hunters Point         |4.620561956877396 |\n",
      "|Presidio Heights              |4.594131472394366 |\n",
      "|Inner Sunset                  |4.438095199935065 |\n",
      "|Inner Richmond                |4.364728682713179 |\n",
      "|Financial District/South Beach|4.344084618290153 |\n",
      "|Haight Ashbury                |4.266428599285713 |\n",
      "|Seacliff                      |4.261111146666667 |\n",
      "|West of Twin Peaks            |4.190952390857143 |\n",
      "|Potrero Hill                  |4.190555557428572 |\n",
      "|Pacific Heights               |4.180453718900522 |\n",
      "|Tenderloin                    |4.101519516597269 |\n",
      "|Oceanview/Merced/Ingleside    |3.947242180719426 |\n",
      "|Excelsior                     |3.9363993797169807|\n",
      "|North Beach                   |3.889249640346322 |\n",
      "|Lakeshore                     |3.881551365094341 |\n",
      "|Mission Bay                   |3.8548689521910124|\n",
      "+------------------------------+------------------+\n",
      "only showing top 20 rows\n",
      "\n"
     ]
    }
   ],
   "source": [
    "df.filter(year(\"CallDate\") == 2018).groupBy(\"Neighborhood\").agg(avg(\"Delay\").alias(\"AvgDelay\")).orderBy(col(\"AvgDelay\").desc()).show(truncate=False)"
   ]
  },
  {
   "cell_type": "code",
   "execution_count": 55,
   "id": "greatest-theology",
   "metadata": {},
   "outputs": [],
   "source": [
    "#14. Find out calltype whose average response delay time is maximum, increases, decreases or has no relation over years."
   ]
  },
  {
   "cell_type": "code",
   "execution_count": 56,
   "id": "animated-middle",
   "metadata": {},
   "outputs": [
    {
     "name": "stdout",
     "output_type": "stream",
     "text": [
      "+----+------------------+------------------+\n",
      "|Year|CallType          |AvgDelay          |\n",
      "+----+------------------+------------------+\n",
      "|2005|Administrative    |31.983334         |\n",
      "|2006|Administrative    |1.8               |\n",
      "|2017|Administrative    |3.0               |\n",
      "|2000|Aircraft Emergency|3.905555533333333 |\n",
      "|2001|Aircraft Emergency|2.616666675       |\n",
      "|2002|Aircraft Emergency|4.14666662        |\n",
      "|2003|Aircraft Emergency|13.166667         |\n",
      "|2004|Aircraft Emergency|2.5916667         |\n",
      "|2005|Aircraft Emergency|4.29166675        |\n",
      "|2006|Aircraft Emergency|3.2111111166666664|\n",
      "|2007|Aircraft Emergency|3.094444333333333 |\n",
      "|2009|Aircraft Emergency|3.0083335         |\n",
      "|2011|Aircraft Emergency|3.5944443333333336|\n",
      "|2012|Aircraft Emergency|4.65833335        |\n",
      "|2013|Aircraft Emergency|2.4333334         |\n",
      "|2014|Aircraft Emergency|7.75              |\n",
      "|2015|Aircraft Emergency|1.1333333         |\n",
      "|2000|Alarms            |3.011146839308682 |\n",
      "|2001|Alarms            |2.6232156389407737|\n",
      "|2002|Alarms            |2.745346974175697 |\n",
      "+----+------------------+------------------+\n",
      "only showing top 20 rows\n",
      "\n"
     ]
    }
   ],
   "source": [
    "call_delay_by_year = df.withColumn(\"Year\", year(\"CallDate\")).groupBy(\"Year\", \"CallType\").agg(avg(\"Delay\").alias(\"AvgDelay\")).orderBy(\"CallType\", \"Year\")\n",
    "call_delay_by_year.show(truncate=False)"
   ]
  },
  {
   "cell_type": "code",
   "execution_count": 57,
   "id": "cutting-rocket",
   "metadata": {},
   "outputs": [],
   "source": [
    "#15. For each year find out which city has more calltypes"
   ]
  },
  {
   "cell_type": "code",
   "execution_count": 58,
   "id": "alpha-symbol",
   "metadata": {},
   "outputs": [
    {
     "name": "stdout",
     "output_type": "stream",
     "text": [
      "+----+----+---------------+\n",
      "|Year|City|UniqueCallTypes|\n",
      "+----+----+---------------+\n",
      "|2000|SF  |18             |\n",
      "|2000|TI  |6              |\n",
      "|2000|DC  |2              |\n",
      "|2000|HP  |2              |\n",
      "|2000|PR  |2              |\n",
      "|2000|FM  |1              |\n",
      "|2000|SFO |1              |\n",
      "|2000|YB  |1              |\n",
      "|2001|SF  |20             |\n",
      "|2001|TI  |6              |\n",
      "|2001|DC  |2              |\n",
      "|2001|YB  |2              |\n",
      "|2001|BN  |1              |\n",
      "|2001|SFO |1              |\n",
      "|2001|FM  |1              |\n",
      "|2001|HP  |1              |\n",
      "|2001|PR  |1              |\n",
      "|2002|SF  |20             |\n",
      "|2002|TI  |5              |\n",
      "|2002|HP  |3              |\n",
      "+----+----+---------------+\n",
      "only showing top 20 rows\n",
      "\n"
     ]
    }
   ],
   "source": [
    "df.withColumn(\"Year\", year(\"CallDate\")).groupBy(\"Year\", \"City\").agg(countDistinct(\"CallType\").alias(\"UniqueCallTypes\")).orderBy(\"Year\", col(\"UniqueCallTypes\").desc()).show(truncate=False)"
   ]
  },
  {
   "cell_type": "code",
   "execution_count": 59,
   "id": "impossible-script",
   "metadata": {},
   "outputs": [],
   "source": [
    "#16. For every year find count of calltypes for 5 cities which has more calls."
   ]
  },
  {
   "cell_type": "code",
   "execution_count": 60,
   "id": "signed-harvest",
   "metadata": {},
   "outputs": [
    {
     "name": "stdout",
     "output_type": "stream",
     "text": [
      "+----+----+-------------------------------+-----+\n",
      "|Year|City|CallType                       |count|\n",
      "+----+----+-------------------------------+-----+\n",
      "|2000|SF  |Medical Incident               |3399 |\n",
      "|2000|SF  |Structure Fire                 |1002 |\n",
      "|2000|SF  |Alarms                         |620  |\n",
      "|2000|SF  |Citizen Assist / Service Call  |124  |\n",
      "|2000|SF  |Other                          |99   |\n",
      "|2000|SF  |Outside Fire                   |67   |\n",
      "|2000|SF  |Vehicle Fire                   |30   |\n",
      "|2000|SF  |Odor (Strange / Unknown)       |19   |\n",
      "|2000|SF  |Elevator / Escalator Rescue    |15   |\n",
      "|2000|SF  |Smoke Investigation (Outside)  |12   |\n",
      "|2000|SF  |Fuel Spill                     |12   |\n",
      "|2000|SF  |Gas Leak (Natural and LP Gases)|11   |\n",
      "|2000|SF  |Water Rescue                   |7    |\n",
      "|2000|SF  |Electrical Hazard              |6    |\n",
      "|2000|SF  |Oil Spill                      |5    |\n",
      "|2000|SF  |Industrial Accidents           |4    |\n",
      "|2000|SF  |Train / Rail Incident          |2    |\n",
      "|2000|SF  |Suspicious Package             |1    |\n",
      "|2000|TI  |Medical Incident               |2    |\n",
      "|2000|TI  |Alarms                         |2    |\n",
      "+----+----+-------------------------------+-----+\n",
      "only showing top 20 rows\n",
      "\n"
     ]
    }
   ],
   "source": [
    "top_5_cities = df.groupBy(\"City\").count().orderBy(col(\"count\").desc()).limit(5).select(\"City\").rdd.flatMap(lambda x: x).collect()\n",
    "df.filter(col(\"City\").isin(top_5_cities)).withColumn(\"Year\", year(\"CallDate\")).groupBy(\"Year\", \"City\", \"CallType\").count().orderBy(\"Year\", \"City\", col(\"count\").desc()).show(truncate=False)"
   ]
  },
  {
   "cell_type": "code",
   "execution_count": 61,
   "id": "trying-james",
   "metadata": {},
   "outputs": [],
   "source": [
    "#17. Is there a correlation between neighborhood, zip code, and number of fire calls?"
   ]
  },
  {
   "cell_type": "code",
   "execution_count": 62,
   "id": "olive-sherman",
   "metadata": {},
   "outputs": [
    {
     "name": "stdout",
     "output_type": "stream",
     "text": [
      "+------------------------------+-------+-----+\n",
      "|Neighborhood                  |Zipcode|count|\n",
      "+------------------------------+-------+-----+\n",
      "|Tenderloin                    |94102  |17084|\n",
      "|South of Market               |94103  |13762|\n",
      "|Mission                       |94110  |10444|\n",
      "|Bayview Hunters Point         |94124  |9150 |\n",
      "|Mission                       |94103  |5445 |\n",
      "|Tenderloin                    |94109  |5377 |\n",
      "|Financial District/South Beach|94105  |4235 |\n",
      "|Outer Richmond                |94121  |4121 |\n",
      "|Nob Hill                      |94109  |3983 |\n",
      "|Castro/Upper Market           |94114  |3946 |\n",
      "|Western Addition              |94115  |3934 |\n",
      "|North Beach                   |94133  |3706 |\n",
      "|Sunset/Parkside               |94122  |3404 |\n",
      "|Marina                        |94123  |3360 |\n",
      "|Excelsior                     |94112  |3237 |\n",
      "|Bernal Heights                |94110  |3109 |\n",
      "|Sunset/Parkside               |94116  |3025 |\n",
      "|Hayes Valley                  |94102  |2814 |\n",
      "|Lakeshore                     |94132  |2658 |\n",
      "|Outer Mission                 |94112  |2608 |\n",
      "+------------------------------+-------+-----+\n",
      "only showing top 20 rows\n",
      "\n"
     ]
    }
   ],
   "source": [
    "df.groupBy(\"Neighborhood\", \"Zipcode\").count().orderBy(col(\"count\").desc()).show(truncate=False)"
   ]
  },
  {
   "cell_type": "code",
   "execution_count": null,
   "id": "every-front",
   "metadata": {},
   "outputs": [],
   "source": []
  }
 ],
 "metadata": {
  "kernelspec": {
   "display_name": "Python 3",
   "language": "python",
   "name": "python3"
  },
  "language_info": {
   "codemirror_mode": {
    "name": "ipython",
    "version": 3
   },
   "file_extension": ".py",
   "mimetype": "text/x-python",
   "name": "python",
   "nbconvert_exporter": "python",
   "pygments_lexer": "ipython3",
   "version": "3.6.9"
  }
 },
 "nbformat": 4,
 "nbformat_minor": 5
}
