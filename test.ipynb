{
 "cells": [
  {
   "cell_type": "code",
   "execution_count": 2,
   "id": "3c8b773b-77ec-417b-9cb8-38d512148000",
   "metadata": {},
   "outputs": [],
   "source": [
    "import pyspark\n",
    "from pyspark.sql import SparkSession\n",
    "spark = SparkSession.builder.appName('RDD Exampl').getOrCreate()\n"
   ]
  },
  {
   "cell_type": "code",
   "execution_count": 89,
   "id": "4793eeff-f757-4df5-9d55-e91f653f95b8",
   "metadata": {},
   "outputs": [
    {
     "name": "stdout",
     "output_type": "stream",
     "text": [
      "YEAR,JAN,FEB,MAR,APR,MAY,JUN,JUL,AUG,SEP,OCT,NOV,DEC\n",
      "1901,17.99,19.43,23.49,26.41,28.28,28.6,27.49,26.98,26.26,25.08,21.73,18.95\n"
     ]
    }
   ],
   "source": [
    "rdd = spark.sparkContext.textFile(\"D:\\exam\\RDD\\Weather Data in India from 1901 to 2017.csv\")\n",
    "words_rdd = rdd.flatMap(lambda line: line.split())\n",
    "max_value = words_rdd.max()\n",
    "min_value = words_rdd.min()\n",
    "\n",
    "\n",
    "print(max_value)\n",
    "print(min_value)\n"
   ]
  },
  {
   "cell_type": "code",
   "execution_count": 86,
   "id": "21aabd71-c58e-4e93-afb1-7d9ecb66debe",
   "metadata": {},
   "outputs": [
    {
     "name": "stdout",
     "output_type": "stream",
     "text": [
      "+----+-----+-----+-----+-----+-----+-----+-----+-----+-----+-----+-----+-----+------------------+-----+-----+\n",
      "|YEAR|  JAN|  FEB|  MAR|  APR|  MAY|  JUN|  JUL|  AUG|  SEP|  OCT|  NOV|  DEC|      average temp|  Min|  Max|\n",
      "+----+-----+-----+-----+-----+-----+-----+-----+-----+-----+-----+-----+-----+------------------+-----+-----+\n",
      "|1901|17.99|19.43|23.49|26.41|28.28| 28.6|27.49|26.98|26.26|25.08|21.73|18.95|24.224166666666665|17.99| 28.6|\n",
      "|1902| 19.0|20.39| 24.1|26.54|28.68|28.44|27.29|27.05|25.95|24.37|21.33|18.78|24.326666666666664|18.78|28.68|\n",
      "|1903|18.32|19.79|22.46|26.03|27.93|28.41|28.04|26.63|26.34|24.57|20.96|18.29|23.980833333333333|18.29|28.41|\n",
      "+----+-----+-----+-----+-----+-----+-----+-----+-----+-----+-----+-----+-----+------------------+-----+-----+\n",
      "only showing top 3 rows\n",
      "\n"
     ]
    }
   ],
   "source": [
    "df = spark.read.csv(\"D:/exam/RDD/Weather Data in India from 1901 to 2017.csv\", header=True, inferSchema=True)\n",
    "a = df.withColumn('average temp',(F.col(\"JAN\") + F.col(\"FEB\") + F.col(\"MAR\") + F.col(\"APR\") + F.col(\"MAY\") + F.col(\"JUN\") + F.col(\"JUL\") + F.col(\"AUG\") +F.col(\"SEP\") + F.col(\"OCT\") + F.col(\"NOV\") + F.col(\"DEC\")) / 12.0)\n",
    "a = a.withColumn('Min', F.least(F.col(\"JAN\"), F.col(\"FEB\"), F.col(\"MAR\"), F.col(\"APR\"),F.col(\"MAY\"), F.col(\"JUN\"), F.col(\"JUL\"), F.col(\"AUG\"),F.col(\"SEP\"), F.col(\"OCT\"), F.col(\"NOV\"), F.col(\"DEC\")))\n",
    "a = a.withColumn('Max', F.greatest(F.col(\"JAN\"), F.col(\"FEB\"), F.col(\"MAR\"), F.col(\"APR\"),F.col(\"MAY\"), F.col(\"JUN\"), F.col(\"JUL\"), F.col(\"AUG\"),F.col(\"SEP\"), F.col(\"OCT\"), F.col(\"NOV\"), F.col(\"DEC\")))\n",
    "a.show(3)\n"
   ]
  },
  {
   "cell_type": "code",
   "execution_count": 87,
   "id": "998156f1-2068-44f1-9825-09720632cdcb",
   "metadata": {},
   "outputs": [
    {
     "name": "stdout",
     "output_type": "stream",
     "text": [
      "+----+-----+-----+-----+-----+-----+-----+-----+-----+-----+-----+-----+-----+------------------+-----+-----+\n",
      "|YEAR|  JAN|  FEB|  MAR|  APR|  MAY|  JUN|  JUL|  AUG|  SEP|  OCT|  NOV|  DEC|      average temp|  Min|  Max|\n",
      "+----+-----+-----+-----+-----+-----+-----+-----+-----+-----+-----+-----+-----+------------------+-----+-----+\n",
      "|1901|17.99|19.43|23.49|26.41|28.28| 28.6|27.49|26.98|26.26|25.08|21.73|18.95|24.224166666666665|17.99| 28.6|\n",
      "|1902| 19.0|20.39| 24.1|26.54|28.68|28.44|27.29|27.05|25.95|24.37|21.33|18.78|24.326666666666664|18.78|28.68|\n",
      "|1903|18.32|19.79|22.46|26.03|27.93|28.41|28.04|26.63|26.34|24.57|20.96|18.29|23.980833333333333|18.29|28.41|\n",
      "|1904|17.77|19.39|22.95|26.73|27.83|27.85|26.84|26.73|25.84|24.36|21.07|18.84|23.849999999999998|17.77|27.85|\n",
      "|1905| 17.4|17.79|21.78|24.84|28.32|28.69|27.67|27.47|26.29|26.16|22.07|18.71|           23.9325| 17.4|28.69|\n",
      "+----+-----+-----+-----+-----+-----+-----+-----+-----+-----+-----+-----+-----+------------------+-----+-----+\n",
      "only showing top 5 rows\n",
      "\n"
     ]
    }
   ],
   "source": [
    "a.orderBy(F.desc(\"average temp\"))\n",
    "a.orderBy(F.asc(\"average temp\"))\n",
    "a.show(5)\n"
   ]
  },
  {
   "cell_type": "code",
   "execution_count": null,
   "id": "5ca9acf3-4566-4569-a1e0-61ac58494aab",
   "metadata": {},
   "outputs": [],
   "source": []
  }
 ],
 "metadata": {
  "kernelspec": {
   "display_name": "Python 3 (ipykernel)",
   "language": "python",
   "name": "python3"
  },
  "language_info": {
   "codemirror_mode": {
    "name": "ipython",
    "version": 3
   },
   "file_extension": ".py",
   "mimetype": "text/x-python",
   "name": "python",
   "nbconvert_exporter": "python",
   "pygments_lexer": "ipython3",
   "version": "3.11.4"
  }
 },
 "nbformat": 4,
 "nbformat_minor": 5
}
